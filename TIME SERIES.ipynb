{
 "cells": [
  {
   "cell_type": "code",
   "execution_count": 1,
   "id": "b23aeb41",
   "metadata": {},
   "outputs": [],
   "source": [
    "#import liberies"
   ]
  },
  {
   "cell_type": "code",
   "execution_count": 4,
   "id": "4d548dcd",
   "metadata": {},
   "outputs": [],
   "source": [
    "import pandas as pd\n",
    "\n",
    "import seaborn as sns"
   ]
  },
  {
   "cell_type": "code",
   "execution_count": 3,
   "id": "9d5831ea",
   "metadata": {},
   "outputs": [],
   "source": [
    "#read file"
   ]
  },
  {
   "cell_type": "code",
   "execution_count": 5,
   "id": "9b92e8d1",
   "metadata": {},
   "outputs": [
    {
     "data": {
      "text/html": [
       "<div>\n",
       "<style scoped>\n",
       "    .dataframe tbody tr th:only-of-type {\n",
       "        vertical-align: middle;\n",
       "    }\n",
       "\n",
       "    .dataframe tbody tr th {\n",
       "        vertical-align: top;\n",
       "    }\n",
       "\n",
       "    .dataframe thead th {\n",
       "        text-align: right;\n",
       "    }\n",
       "</style>\n",
       "<table border=\"1\" class=\"dataframe\">\n",
       "  <thead>\n",
       "    <tr style=\"text-align: right;\">\n",
       "      <th></th>\n",
       "      <th>Unnamed: 0</th>\n",
       "      <th>Country/Currency</th>\n",
       "      <th>currency</th>\n",
       "      <th>value</th>\n",
       "      <th>date</th>\n",
       "    </tr>\n",
       "  </thead>\n",
       "  <tbody>\n",
       "    <tr>\n",
       "      <th>0</th>\n",
       "      <td>0</td>\n",
       "      <td>Australia Dollar</td>\n",
       "      <td>AUD</td>\n",
       "      <td>1.581627</td>\n",
       "      <td>17/12/2021</td>\n",
       "    </tr>\n",
       "    <tr>\n",
       "      <th>1</th>\n",
       "      <td>1</td>\n",
       "      <td>Great Britain Pound</td>\n",
       "      <td>GBP</td>\n",
       "      <td>0.851619</td>\n",
       "      <td>17/12/2021</td>\n",
       "    </tr>\n",
       "    <tr>\n",
       "      <th>2</th>\n",
       "      <td>2</td>\n",
       "      <td>Euro</td>\n",
       "      <td>EUR</td>\n",
       "      <td>1.000000</td>\n",
       "      <td>17/12/2021</td>\n",
       "    </tr>\n",
       "    <tr>\n",
       "      <th>3</th>\n",
       "      <td>3</td>\n",
       "      <td>Japan Yen</td>\n",
       "      <td>JPY</td>\n",
       "      <td>128.301759</td>\n",
       "      <td>17/12/2021</td>\n",
       "    </tr>\n",
       "    <tr>\n",
       "      <th>4</th>\n",
       "      <td>4</td>\n",
       "      <td>Switzerland Franc</td>\n",
       "      <td>CHF</td>\n",
       "      <td>1.041015</td>\n",
       "      <td>17/12/2021</td>\n",
       "    </tr>\n",
       "  </tbody>\n",
       "</table>\n",
       "</div>"
      ],
      "text/plain": [
       "   Unnamed: 0     Country/Currency currency       value        date\n",
       "0           0     Australia Dollar      AUD    1.581627  17/12/2021\n",
       "1           1  Great Britain Pound      GBP    0.851619  17/12/2021\n",
       "2           2                 Euro      EUR    1.000000  17/12/2021\n",
       "3           3            Japan Yen      JPY  128.301759  17/12/2021\n",
       "4           4    Switzerland Franc      CHF    1.041015  17/12/2021"
      ]
     },
     "execution_count": 5,
     "metadata": {},
     "output_type": "execute_result"
    }
   ],
   "source": [
    "df = pd.read_csv(\"exchange_rates.csv\")\n",
    "df.head()\n"
   ]
  },
  {
   "cell_type": "code",
   "execution_count": 7,
   "id": "6e5f9b96",
   "metadata": {},
   "outputs": [
    {
     "name": "stdout",
     "output_type": "stream",
     "text": [
      "<class 'pandas.core.frame.DataFrame'>\n",
      "RangeIndex: 98030 entries, 0 to 98029\n",
      "Data columns (total 5 columns):\n",
      " #   Column            Non-Null Count  Dtype  \n",
      "---  ------            --------------  -----  \n",
      " 0   Unnamed: 0        98030 non-null  int64  \n",
      " 1   Country/Currency  98030 non-null  object \n",
      " 2   currency          98030 non-null  object \n",
      " 3   value             98030 non-null  float64\n",
      " 4   date              98030 non-null  object \n",
      "dtypes: float64(1), int64(1), object(3)\n",
      "memory usage: 3.7+ MB\n"
     ]
    }
   ],
   "source": [
    "df.info()"
   ]
  },
  {
   "cell_type": "code",
   "execution_count": 8,
   "id": "b93b0de0",
   "metadata": {},
   "outputs": [
    {
     "data": {
      "text/html": [
       "<div>\n",
       "<style scoped>\n",
       "    .dataframe tbody tr th:only-of-type {\n",
       "        vertical-align: middle;\n",
       "    }\n",
       "\n",
       "    .dataframe tbody tr th {\n",
       "        vertical-align: top;\n",
       "    }\n",
       "\n",
       "    .dataframe thead th {\n",
       "        text-align: right;\n",
       "    }\n",
       "</style>\n",
       "<table border=\"1\" class=\"dataframe\">\n",
       "  <thead>\n",
       "    <tr style=\"text-align: right;\">\n",
       "      <th></th>\n",
       "      <th>Unnamed: 0</th>\n",
       "      <th>value</th>\n",
       "    </tr>\n",
       "  </thead>\n",
       "  <tbody>\n",
       "    <tr>\n",
       "      <th>count</th>\n",
       "      <td>98030.000000</td>\n",
       "      <td>98030.000000</td>\n",
       "    </tr>\n",
       "    <tr>\n",
       "      <th>mean</th>\n",
       "      <td>49014.500000</td>\n",
       "      <td>1663.988668</td>\n",
       "    </tr>\n",
       "    <tr>\n",
       "      <th>std</th>\n",
       "      <td>28298.967782</td>\n",
       "      <td>5503.947297</td>\n",
       "    </tr>\n",
       "    <tr>\n",
       "      <th>min</th>\n",
       "      <td>0.000000</td>\n",
       "      <td>0.130975</td>\n",
       "    </tr>\n",
       "    <tr>\n",
       "      <th>25%</th>\n",
       "      <td>24507.250000</td>\n",
       "      <td>3.966046</td>\n",
       "    </tr>\n",
       "    <tr>\n",
       "      <th>50%</th>\n",
       "      <td>49014.500000</td>\n",
       "      <td>35.357070</td>\n",
       "    </tr>\n",
       "    <tr>\n",
       "      <th>75%</th>\n",
       "      <td>73521.750000</td>\n",
       "      <td>395.377899</td>\n",
       "    </tr>\n",
       "    <tr>\n",
       "      <th>max</th>\n",
       "      <td>98029.000000</td>\n",
       "      <td>51690.453353</td>\n",
       "    </tr>\n",
       "  </tbody>\n",
       "</table>\n",
       "</div>"
      ],
      "text/plain": [
       "         Unnamed: 0         value\n",
       "count  98030.000000  98030.000000\n",
       "mean   49014.500000   1663.988668\n",
       "std    28298.967782   5503.947297\n",
       "min        0.000000      0.130975\n",
       "25%    24507.250000      3.966046\n",
       "50%    49014.500000     35.357070\n",
       "75%    73521.750000    395.377899\n",
       "max    98029.000000  51690.453353"
      ]
     },
     "execution_count": 8,
     "metadata": {},
     "output_type": "execute_result"
    }
   ],
   "source": [
    "df.describe()"
   ]
  },
  {
   "cell_type": "code",
   "execution_count": 10,
   "id": "80c9b90d",
   "metadata": {},
   "outputs": [],
   "source": [
    "df['date'] = pd.to_datetime(df['date'], format='%d/%m/%Y')"
   ]
  },
  {
   "cell_type": "code",
   "execution_count": 11,
   "id": "bbc6f07b",
   "metadata": {},
   "outputs": [
    {
     "name": "stdout",
     "output_type": "stream",
     "text": [
      "Unnamed: 0                   int64\n",
      "Country/Currency            object\n",
      "currency                    object\n",
      "value                      float64\n",
      "date                datetime64[ns]\n",
      "dtype: object\n",
      "Unnamed: 0          0\n",
      "Country/Currency    0\n",
      "currency            0\n",
      "value               0\n",
      "date                0\n",
      "dtype: int64\n"
     ]
    }
   ],
   "source": [
    "print(df.dtypes)\n",
    "print(df.isnull().sum())"
   ]
  },
  {
   "cell_type": "code",
   "execution_count": 14,
   "id": "2b1961ec",
   "metadata": {},
   "outputs": [],
   "source": [
    "# Check for duplicate rows and drop them if necessary\n",
    "df.drop_duplicates(subset=['date', 'currency'], inplace=True)"
   ]
  },
  {
   "cell_type": "code",
   "execution_count": 16,
   "id": "9139ba58",
   "metadata": {},
   "outputs": [],
   "source": [
    "df = df.drop_duplicates(subset=['date', 'currency'], keep='first')\n"
   ]
  },
  {
   "cell_type": "code",
   "execution_count": 17,
   "id": "9b03026a",
   "metadata": {},
   "outputs": [],
   "source": [
    "pivoted_data = df.pivot_table(index='date', columns='currency', values='value', aggfunc='mean')\n"
   ]
  },
  {
   "cell_type": "code",
   "execution_count": 15,
   "id": "c1746fad",
   "metadata": {},
   "outputs": [],
   "source": [
    "#time series"
   ]
  },
  {
   "cell_type": "code",
   "execution_count": 19,
   "id": "950f37fb",
   "metadata": {},
   "outputs": [
    {
     "data": {
      "image/png": "[encoded data removed]",
      "text/plain": [
       "<Figure size 1200x600 with 1 Axes>"
      ]
     },
     "metadata": {},
     "output_type": "display_data"
    }
   ],
   "source": [
    "import matplotlib.pyplot as plt\n",
    "\n",
    "# List of currencies to analyze (excluding EUR)\n",
    "currencies_to_analyze = ['USD', 'GBP', 'JPY', 'NGN', 'ZMK','KWD']\n",
    "\n",
    "# Plot the exchange rates for multiple currencies over time (excluding EUR)\n",
    "plt.figure(figsize=(12, 6))\n",
    "for currency_code in currencies_to_analyze:\n",
    "    if currency_code != 'EUR':  # Exclude EUR\n",
    "        currency_series = pivoted_data[currency_code]\n",
    "        plt.plot(currency_series.index, currency_series.values, label=currency_code)\n",
    "\n",
    "plt.xlabel('Date')\n",
    "plt.ylabel('Exchange Rate')\n",
    "plt.title('Multiple Currency Exchange Rates Relative to Euro')\n",
    "plt.legend()\n",
    "plt.grid(True)\n",
    "plt.show()\n"
   ]
  },
  {
   "cell_type": "code",
   "execution_count": null,
   "id": "5047bc36",
   "metadata": {},
   "outputs": [],
   "source": []
  }
 ],
 "metadata": {
  "kernelspec": {
   "display_name": "Python 3 (ipykernel)",
   "language": "python",
   "name": "python3"
  },
  "language_info": {
   "codemirror_mode": {
    "name": "ipython",
    "version": 3
   },
   "file_extension": ".py",
   "mimetype": "text/x-python",
   "name": "python",
   "nbconvert_exporter": "python",
   "pygments_lexer": "ipython3",
   "version": "3.9.13"
  }
 },
 "nbformat": 4,
 "nbformat_minor": 5
}
